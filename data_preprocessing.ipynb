{
 "cells": [
  {
   "cell_type": "code",
   "execution_count": 1,
   "metadata": {},
   "outputs": [],
   "source": [
    "import pandas as pd"
   ]
  },
  {
   "cell_type": "code",
   "execution_count": 2,
   "metadata": {},
   "outputs": [],
   "source": [
    "count_df = pd.read_csv('brain_counts.csv', index_col=0)"
   ]
  },
  {
   "cell_type": "code",
   "execution_count": 3,
   "metadata": {},
   "outputs": [
    {
     "data": {
      "text/html": [
       "<div>\n",
       "<style scoped>\n",
       "    .dataframe tbody tr th:only-of-type {\n",
       "        vertical-align: middle;\n",
       "    }\n",
       "\n",
       "    .dataframe tbody tr th {\n",
       "        vertical-align: top;\n",
       "    }\n",
       "\n",
       "    .dataframe thead th {\n",
       "        text-align: right;\n",
       "    }\n",
       "</style>\n",
       "<table border=\"1\" class=\"dataframe\">\n",
       "  <thead>\n",
       "    <tr style=\"text-align: right;\">\n",
       "      <th></th>\n",
       "      <th>0610005C13Rik</th>\n",
       "      <th>0610007C21Rik</th>\n",
       "      <th>0610007L01Rik</th>\n",
       "      <th>0610007N19Rik</th>\n",
       "      <th>0610007P08Rik</th>\n",
       "      <th>0610007P14Rik</th>\n",
       "      <th>0610007P22Rik</th>\n",
       "      <th>0610008F07Rik</th>\n",
       "      <th>0610009B14Rik</th>\n",
       "      <th>0610009B22Rik</th>\n",
       "      <th>...</th>\n",
       "      <th>Zxdb</th>\n",
       "      <th>Zxdc</th>\n",
       "      <th>Zyg11a</th>\n",
       "      <th>Zyg11b</th>\n",
       "      <th>Zyx</th>\n",
       "      <th>Zzef1</th>\n",
       "      <th>Zzz3</th>\n",
       "      <th>a</th>\n",
       "      <th>l7Rn6</th>\n",
       "      <th>zsGreen_transgene</th>\n",
       "    </tr>\n",
       "  </thead>\n",
       "  <tbody>\n",
       "    <tr>\n",
       "      <th>A1.B003290.3_38_F.1.1</th>\n",
       "      <td>0</td>\n",
       "      <td>125</td>\n",
       "      <td>16</td>\n",
       "      <td>0</td>\n",
       "      <td>0</td>\n",
       "      <td>0</td>\n",
       "      <td>0</td>\n",
       "      <td>0</td>\n",
       "      <td>0</td>\n",
       "      <td>0</td>\n",
       "      <td>...</td>\n",
       "      <td>0</td>\n",
       "      <td>0</td>\n",
       "      <td>0</td>\n",
       "      <td>0</td>\n",
       "      <td>0</td>\n",
       "      <td>0</td>\n",
       "      <td>0</td>\n",
       "      <td>0</td>\n",
       "      <td>54</td>\n",
       "      <td>0</td>\n",
       "    </tr>\n",
       "    <tr>\n",
       "      <th>A1.B003728.3_56_F.1.1</th>\n",
       "      <td>0</td>\n",
       "      <td>0</td>\n",
       "      <td>0</td>\n",
       "      <td>0</td>\n",
       "      <td>0</td>\n",
       "      <td>324</td>\n",
       "      <td>0</td>\n",
       "      <td>0</td>\n",
       "      <td>0</td>\n",
       "      <td>0</td>\n",
       "      <td>...</td>\n",
       "      <td>0</td>\n",
       "      <td>0</td>\n",
       "      <td>0</td>\n",
       "      <td>0</td>\n",
       "      <td>0</td>\n",
       "      <td>0</td>\n",
       "      <td>0</td>\n",
       "      <td>0</td>\n",
       "      <td>0</td>\n",
       "      <td>0</td>\n",
       "    </tr>\n",
       "    <tr>\n",
       "      <th>A1.MAA000560.3_10_M.1.1</th>\n",
       "      <td>0</td>\n",
       "      <td>348</td>\n",
       "      <td>0</td>\n",
       "      <td>0</td>\n",
       "      <td>0</td>\n",
       "      <td>5</td>\n",
       "      <td>0</td>\n",
       "      <td>0</td>\n",
       "      <td>0</td>\n",
       "      <td>0</td>\n",
       "      <td>...</td>\n",
       "      <td>0</td>\n",
       "      <td>0</td>\n",
       "      <td>0</td>\n",
       "      <td>0</td>\n",
       "      <td>0</td>\n",
       "      <td>195</td>\n",
       "      <td>0</td>\n",
       "      <td>0</td>\n",
       "      <td>113</td>\n",
       "      <td>0</td>\n",
       "    </tr>\n",
       "    <tr>\n",
       "      <th>A1.MAA000564.3_10_M.1.1</th>\n",
       "      <td>0</td>\n",
       "      <td>41</td>\n",
       "      <td>36</td>\n",
       "      <td>0</td>\n",
       "      <td>0</td>\n",
       "      <td>24</td>\n",
       "      <td>0</td>\n",
       "      <td>0</td>\n",
       "      <td>0</td>\n",
       "      <td>14</td>\n",
       "      <td>...</td>\n",
       "      <td>0</td>\n",
       "      <td>0</td>\n",
       "      <td>0</td>\n",
       "      <td>0</td>\n",
       "      <td>125</td>\n",
       "      <td>0</td>\n",
       "      <td>1</td>\n",
       "      <td>0</td>\n",
       "      <td>0</td>\n",
       "      <td>0</td>\n",
       "    </tr>\n",
       "    <tr>\n",
       "      <th>A1.MAA000923.3_9_M.1.1</th>\n",
       "      <td>0</td>\n",
       "      <td>53</td>\n",
       "      <td>0</td>\n",
       "      <td>0</td>\n",
       "      <td>0</td>\n",
       "      <td>0</td>\n",
       "      <td>0</td>\n",
       "      <td>0</td>\n",
       "      <td>0</td>\n",
       "      <td>0</td>\n",
       "      <td>...</td>\n",
       "      <td>0</td>\n",
       "      <td>0</td>\n",
       "      <td>0</td>\n",
       "      <td>81</td>\n",
       "      <td>0</td>\n",
       "      <td>0</td>\n",
       "      <td>0</td>\n",
       "      <td>0</td>\n",
       "      <td>0</td>\n",
       "      <td>0</td>\n",
       "    </tr>\n",
       "  </tbody>\n",
       "</table>\n",
       "<p>5 rows × 23433 columns</p>\n",
       "</div>"
      ],
      "text/plain": [
       "                         0610005C13Rik  0610007C21Rik  0610007L01Rik  \\\n",
       "A1.B003290.3_38_F.1.1                0            125             16   \n",
       "A1.B003728.3_56_F.1.1                0              0              0   \n",
       "A1.MAA000560.3_10_M.1.1              0            348              0   \n",
       "A1.MAA000564.3_10_M.1.1              0             41             36   \n",
       "A1.MAA000923.3_9_M.1.1               0             53              0   \n",
       "\n",
       "                         0610007N19Rik  0610007P08Rik  0610007P14Rik  \\\n",
       "A1.B003290.3_38_F.1.1                0              0              0   \n",
       "A1.B003728.3_56_F.1.1                0              0            324   \n",
       "A1.MAA000560.3_10_M.1.1              0              0              5   \n",
       "A1.MAA000564.3_10_M.1.1              0              0             24   \n",
       "A1.MAA000923.3_9_M.1.1               0              0              0   \n",
       "\n",
       "                         0610007P22Rik  0610008F07Rik  0610009B14Rik  \\\n",
       "A1.B003290.3_38_F.1.1                0              0              0   \n",
       "A1.B003728.3_56_F.1.1                0              0              0   \n",
       "A1.MAA000560.3_10_M.1.1              0              0              0   \n",
       "A1.MAA000564.3_10_M.1.1              0              0              0   \n",
       "A1.MAA000923.3_9_M.1.1               0              0              0   \n",
       "\n",
       "                         0610009B22Rik  ...  Zxdb  Zxdc  Zyg11a  Zyg11b  Zyx  \\\n",
       "A1.B003290.3_38_F.1.1                0  ...     0     0       0       0    0   \n",
       "A1.B003728.3_56_F.1.1                0  ...     0     0       0       0    0   \n",
       "A1.MAA000560.3_10_M.1.1              0  ...     0     0       0       0    0   \n",
       "A1.MAA000564.3_10_M.1.1             14  ...     0     0       0       0  125   \n",
       "A1.MAA000923.3_9_M.1.1               0  ...     0     0       0      81    0   \n",
       "\n",
       "                         Zzef1  Zzz3  a  l7Rn6  zsGreen_transgene  \n",
       "A1.B003290.3_38_F.1.1        0     0  0     54                  0  \n",
       "A1.B003728.3_56_F.1.1        0     0  0      0                  0  \n",
       "A1.MAA000560.3_10_M.1.1    195     0  0    113                  0  \n",
       "A1.MAA000564.3_10_M.1.1      0     1  0      0                  0  \n",
       "A1.MAA000923.3_9_M.1.1       0     0  0      0                  0  \n",
       "\n",
       "[5 rows x 23433 columns]"
      ]
     },
     "execution_count": 3,
     "metadata": {},
     "output_type": "execute_result"
    }
   ],
   "source": [
    "count_df.head()"
   ]
  },
  {
   "cell_type": "code",
   "execution_count": 4,
   "metadata": {},
   "outputs": [
    {
     "data": {
      "text/plain": [
       "(3401, 23433)"
      ]
     },
     "execution_count": 4,
     "metadata": {},
     "output_type": "execute_result"
    }
   ],
   "source": [
    "count_df.shape"
   ]
  },
  {
   "cell_type": "code",
   "execution_count": 5,
   "metadata": {},
   "outputs": [],
   "source": [
    "metadata_df = pd.read_csv('brain_metadata.csv',index_col=0)"
   ]
  },
  {
   "cell_type": "code",
   "execution_count": 6,
   "metadata": {},
   "outputs": [
    {
     "data": {
      "text/html": [
       "<div>\n",
       "<style scoped>\n",
       "    .dataframe tbody tr th:only-of-type {\n",
       "        vertical-align: middle;\n",
       "    }\n",
       "\n",
       "    .dataframe tbody tr th {\n",
       "        vertical-align: top;\n",
       "    }\n",
       "\n",
       "    .dataframe thead th {\n",
       "        text-align: right;\n",
       "    }\n",
       "</style>\n",
       "<table border=\"1\" class=\"dataframe\">\n",
       "  <thead>\n",
       "    <tr style=\"text-align: right;\">\n",
       "      <th></th>\n",
       "      <th>cell_ontology_class</th>\n",
       "      <th>subtissue</th>\n",
       "      <th>mouse.sex</th>\n",
       "      <th>mouse.id</th>\n",
       "      <th>plate.barcode</th>\n",
       "    </tr>\n",
       "    <tr>\n",
       "      <th>cell</th>\n",
       "      <th></th>\n",
       "      <th></th>\n",
       "      <th></th>\n",
       "      <th></th>\n",
       "      <th></th>\n",
       "    </tr>\n",
       "  </thead>\n",
       "  <tbody>\n",
       "    <tr>\n",
       "      <th>A1.B003290.3_38_F.1.1</th>\n",
       "      <td>astrocyte</td>\n",
       "      <td>Striatum</td>\n",
       "      <td>F</td>\n",
       "      <td>3_38_F</td>\n",
       "      <td>B003290</td>\n",
       "    </tr>\n",
       "    <tr>\n",
       "      <th>A1.B003728.3_56_F.1.1</th>\n",
       "      <td>astrocyte</td>\n",
       "      <td>Striatum</td>\n",
       "      <td>F</td>\n",
       "      <td>3_56_F</td>\n",
       "      <td>B003728</td>\n",
       "    </tr>\n",
       "    <tr>\n",
       "      <th>A1.MAA000560.3_10_M.1.1</th>\n",
       "      <td>oligodendrocyte</td>\n",
       "      <td>Cortex</td>\n",
       "      <td>M</td>\n",
       "      <td>3_10_M</td>\n",
       "      <td>MAA000560</td>\n",
       "    </tr>\n",
       "    <tr>\n",
       "      <th>A1.MAA000564.3_10_M.1.1</th>\n",
       "      <td>endothelial cell</td>\n",
       "      <td>Striatum</td>\n",
       "      <td>M</td>\n",
       "      <td>3_10_M</td>\n",
       "      <td>MAA000564</td>\n",
       "    </tr>\n",
       "    <tr>\n",
       "      <th>A1.MAA000923.3_9_M.1.1</th>\n",
       "      <td>astrocyte</td>\n",
       "      <td>Hippocampus</td>\n",
       "      <td>M</td>\n",
       "      <td>3_9_M</td>\n",
       "      <td>MAA000923</td>\n",
       "    </tr>\n",
       "  </tbody>\n",
       "</table>\n",
       "</div>"
      ],
      "text/plain": [
       "                        cell_ontology_class    subtissue mouse.sex mouse.id  \\\n",
       "cell                                                                          \n",
       "A1.B003290.3_38_F.1.1             astrocyte     Striatum         F   3_38_F   \n",
       "A1.B003728.3_56_F.1.1             astrocyte     Striatum         F   3_56_F   \n",
       "A1.MAA000560.3_10_M.1.1     oligodendrocyte       Cortex         M   3_10_M   \n",
       "A1.MAA000564.3_10_M.1.1    endothelial cell     Striatum         M   3_10_M   \n",
       "A1.MAA000923.3_9_M.1.1            astrocyte  Hippocampus         M    3_9_M   \n",
       "\n",
       "                        plate.barcode  \n",
       "cell                                   \n",
       "A1.B003290.3_38_F.1.1         B003290  \n",
       "A1.B003728.3_56_F.1.1         B003728  \n",
       "A1.MAA000560.3_10_M.1.1     MAA000560  \n",
       "A1.MAA000564.3_10_M.1.1     MAA000564  \n",
       "A1.MAA000923.3_9_M.1.1      MAA000923  "
      ]
     },
     "execution_count": 6,
     "metadata": {},
     "output_type": "execute_result"
    }
   ],
   "source": [
    "metadata_df.head()"
   ]
  },
  {
   "cell_type": "code",
   "execution_count": 7,
   "metadata": {},
   "outputs": [
    {
     "data": {
      "text/plain": [
       "(3401, 5)"
      ]
     },
     "execution_count": 7,
     "metadata": {},
     "output_type": "execute_result"
    }
   ],
   "source": [
    "metadata_df.shape"
   ]
  },
  {
   "cell_type": "code",
   "execution_count": 8,
   "metadata": {},
   "outputs": [
    {
     "data": {
      "text/plain": [
       "Cortex         1149\n",
       "Hippocampus     976\n",
       "Striatum        723\n",
       "Cerebellum      553\n",
       "Name: subtissue, dtype: int64"
      ]
     },
     "execution_count": 8,
     "metadata": {},
     "output_type": "execute_result"
    }
   ],
   "source": [
    "pd.value_counts(metadata_df['subtissue'])"
   ]
  },
  {
   "cell_type": "code",
   "execution_count": 9,
   "metadata": {},
   "outputs": [
    {
     "name": "stdout",
     "output_type": "stream",
     "text": [
      "oligodendrocyte                   1574\n",
      "endothelial cell                   715\n",
      "astrocyte                          432\n",
      "neuron                             281\n",
      "oligodendrocyte precursor cell     203\n",
      "brain pericyte                     156\n",
      "Bergmann glial cell                 40\n",
      "Name: cell_ontology_class, dtype: int64\n",
      "Cortex         1149\n",
      "Hippocampus     976\n",
      "Striatum        723\n",
      "Cerebellum      553\n",
      "Name: subtissue, dtype: int64\n",
      "M    2694\n",
      "F     707\n",
      "Name: mouse.sex, dtype: int64\n",
      "3_10_M    980\n",
      "3_9_M     871\n",
      "3_8_M     590\n",
      "3_38_F    355\n",
      "3_11_M    253\n",
      "3_39_F    241\n",
      "3_56_F    111\n",
      "Name: mouse.id, dtype: int64\n",
      "MAA000560    287\n",
      "MAA000926    263\n",
      "MAA000581    190\n",
      "MAA000944    184\n",
      "MAA000932    174\n",
      "MAA001894    147\n",
      "MAA000564    143\n",
      "MAA000942    136\n",
      "MAA000935    131\n",
      "MAA000941    125\n",
      "MAA000930    111\n",
      "MAA000923    108\n",
      "MAA000947    107\n",
      "B003290       98\n",
      "MAA000561     97\n",
      "MAA000615     95\n",
      "B003275       93\n",
      "MAA000641     67\n",
      "B003728       66\n",
      "MAA000940     63\n",
      "MAA001895     60\n",
      "MAA000563     57\n",
      "MAA000925     55\n",
      "B003277       52\n",
      "MAA000638     51\n",
      "MAA000902     40\n",
      "MAA000424     39\n",
      "MAA000553     39\n",
      "MAA000578     38\n",
      "MAA000928     36\n",
      "MAA000550     34\n",
      "MAA001845     33\n",
      "B001688       32\n",
      "B003274       27\n",
      "B000621       24\n",
      "MAA001854     23\n",
      "MAA001853     22\n",
      "B000404       21\n",
      "MAA000924     14\n",
      "MAA000538     10\n",
      "MAA001856      9\n",
      "Name: plate.barcode, dtype: int64\n"
     ]
    }
   ],
   "source": [
    "for column in metadata_df.columns.values:\n",
    "    print(pd.value_counts(metadata_df[column]))"
   ]
  },
  {
   "cell_type": "code",
   "execution_count": 10,
   "metadata": {},
   "outputs": [],
   "source": [
    "import scanpy as sc"
   ]
  },
  {
   "cell_type": "code",
   "execution_count": 11,
   "metadata": {},
   "outputs": [],
   "source": [
    "adata = sc.AnnData(X=count_df, obs=metadata_df)"
   ]
  },
  {
   "cell_type": "code",
   "execution_count": 14,
   "metadata": {},
   "outputs": [
    {
     "data": {
      "text/plain": [
       "AnnData object with n_obs × n_vars = 3401 × 23433\n",
       "    obs: 'cell_ontology_class', 'subtissue', 'mouse.sex', 'mouse.id', 'plate.barcode'"
      ]
     },
     "execution_count": 14,
     "metadata": {},
     "output_type": "execute_result"
    }
   ],
   "source": [
    "adata"
   ]
  },
  {
   "cell_type": "code",
   "execution_count": 15,
   "metadata": {},
   "outputs": [
    {
     "name": "stdout",
     "output_type": "stream",
     "text": [
      "found this many spike ins:  92\n"
     ]
    }
   ],
   "source": [
    "is_spike_in = {}\n",
    "number_of_spike_ins = 0\n",
    "\n",
    "for gene_name in adata.var_names:\n",
    "    if 'ERCC' in gene_name:\n",
    "        is_spike_in[gene_name] = True\n",
    "        number_of_spike_ins += 1\n",
    "    else:\n",
    "        is_spike_in[gene_name] = False\n",
    "\n",
    "adata.var['ERCC'] = pd.Series(is_spike_in)\n",
    "print('found this many spike ins: ', number_of_spike_ins)"
   ]
  },
  {
   "cell_type": "code",
   "execution_count": 17,
   "metadata": {},
   "outputs": [],
   "source": [
    "adata.write('brain_raw.h5ad')"
   ]
  }
 ],
 "metadata": {
  "kernelspec": {
   "display_name": "Python 3",
   "language": "python",
   "name": "python3"
  },
  "language_info": {
   "codemirror_mode": {
    "name": "ipython",
    "version": 3
   },
   "file_extension": ".py",
   "mimetype": "text/x-python",
   "name": "python",
   "nbconvert_exporter": "python",
   "pygments_lexer": "ipython3",
   "version": "3.11.1"
  }
 },
 "nbformat": 4,
 "nbformat_minor": 2
}
